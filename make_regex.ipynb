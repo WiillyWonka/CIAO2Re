{
 "cells": [
  {
   "cell_type": "code",
   "execution_count": 1,
   "metadata": {},
   "outputs": [],
   "source": [
    "from queue import Queue\n",
    "import re"
   ]
  },
  {
   "cell_type": "markdown",
   "metadata": {},
   "source": [
    "Далее представлена функция построения регулярного выражения из графа-источника make_regex. \n",
    "\n",
    "На вход получаем описание графа источника (имена вершин, список смежности, список финальных вершин)\n",
    "На выходе получаем массив заполненный результатами для различных стоков и для\n",
    "получения итогового регулярного выражения достаточно объединить их знаком ’+’.\n",
    "\n",
    "Алгоритм представляет из себя 2 обхода в ширину. На первом проходе ищем циклы и наколение путей в терминальных вершинах. На втором проходе формируем финальные регулярные выражения."
   ]
  },
  {
   "cell_type": "code",
   "execution_count": 2,
   "metadata": {},
   "outputs": [],
   "source": [
    "def make_regex(s, d, neighbours, names):\n",
    "    Q = Queue()\n",
    "    Q.put(s)\n",
    "    d_ = [''] * len(neighbours)\n",
    "    d_[s] = names[s]\n",
    "    result = []\n",
    "    while not Q.empty():\n",
    "        current_v = Q.get()\n",
    "        for u in neighbours[current_v]:\n",
    "            if u in d:\n",
    "                result.append(d_[current_v] + ' ' + names[u])\n",
    "            elif d_[u] == '':\n",
    "                d_[u] = d_[current_v] + ' ' + names[u]\n",
    "                Q.put(u)\n",
    "            else:\n",
    "                d_[u] = '(' + d_[current_v] + ')*(' + names[u]\n",
    "    \n",
    "    Q.put(s)\n",
    "    while not Q.empty():\n",
    "        current_v = Q.get()\n",
    "        for u in neighbours[current_v]:\n",
    "            if u == s:\n",
    "                continue\n",
    "            if u in d:\n",
    "                result.append(d_[current_v] + ' ' + names[u] + ')')\n",
    "            else:\n",
    "                d_[u] = d_[current_v] + ' ' + names[u]\n",
    "                Q.put(u)\n",
    "    return result"
   ]
  },
  {
   "cell_type": "markdown",
   "metadata": {},
   "source": [
    "Данная функция объединяет результат работы make_regex в одно регулярное выражение."
   ]
  },
  {
   "cell_type": "code",
   "execution_count": 3,
   "metadata": {},
   "outputs": [],
   "source": [
    "def uniteResult(ls):\n",
    "    it = iter(ls)\n",
    "    out = next(it)\n",
    "    for inst in it:\n",
    "        out += ' + ' + inst\n",
    "\n",
    "    return out"
   ]
  },
  {
   "cell_type": "markdown",
   "metadata": {},
   "source": [
    "Далее представлены функции для обновления графа источника.\n",
    "\n",
    "Проверяется для каждой из команд: существует ли 2 различных состояния (или одно\n",
    "состояние, но 2 различных события на переходах), из которых вызывается эта команда. Если это условие выполнено, то команду нужно ’размножить’ по числу таких состояний. В описаниях переходов заменяем вызовы команд на введённые."
   ]
  },
  {
   "cell_type": "code",
   "execution_count": 6,
   "metadata": {},
   "outputs": [],
   "source": [
    "def updateTransition(sm_ls, state1, state2, command):\n",
    "    for state_machine in sm_ls:\n",
    "        for transition in state_machine['transition']:\n",
    "            if transition['actions'][1] == command:\n",
    "                if transition['states'][0] == state1:\n",
    "                    transition['actions'][1] = command + \"_\" + state1\n",
    "                if transition['states'][0] == state2:\n",
    "                    transition['actions'][1] = command + \"_\" + state2"
   ]
  },
  {
   "cell_type": "code",
   "execution_count": 7,
   "metadata": {},
   "outputs": [],
   "source": [
    "def splitVertices(sm_ls):\n",
    "    for state_machine1 in sm_ls:\n",
    "        for transition1 in state_machine1['transition']:\n",
    "            for state_machine2 in sm_ls:\n",
    "                for transition2 in state_machine2['transition']:\n",
    "                    command = transition1['actions'][1]\n",
    "                    if command == transition2['actions'][1] \\\n",
    "                    and transition1['states'][0] != transition2['states'][0] \\\n",
    "                    and command != '':\n",
    "                        if command in state_machine1['interfaces']: state_machine1['interfaces'].remove(command)\n",
    "                        if command in state_machine2['interfaces']: state_machine2['interfaces'].remove(command)\n",
    "                        \n",
    "                        state1 = transition1['states'][0]\n",
    "                        state2 = transition2['states'][0]\n",
    "                        \n",
    "                        new_command1 = command + \"_\" + state1\n",
    "                        new_command2 = command + \"_\" + state2\n",
    "                        \n",
    "                        updateTransition(sm_ls, state1, state2, command)\n",
    "                        \n",
    "                        transition1['actions'][1] = new_command1\n",
    "                        transition2['actions'][1] = new_command2\n",
    "                        \n",
    "                        state_machine1['interfaces'].append(new_command1)\n",
    "                        state_machine2['interfaces'].append(new_command2)\n",
    "                        \n",
    "                        if command in state_machine1['inner']:\n",
    "                            state_machine1['inner'].remove(command)\n",
    "                            state_machine1['inner'].append(new_command1)\n",
    "                        if command in state_machine2['inner']:\n",
    "                            state_machine2['inner'].remove(command)\n",
    "                            state_machine2['inner'].append(new_command2)"
   ]
  },
  {
   "cell_type": "markdown",
   "metadata": {},
   "source": [
    "В следующих функциях осуществляется поиск терминальных вершин."
   ]
  },
  {
   "cell_type": "code",
   "execution_count": 8,
   "metadata": {},
   "outputs": [],
   "source": [
    "def findFinallState(state_machine):\n",
    "    for state in state_machine['transition']:\n",
    "        if state['states'][1] == 'exit': return state['states'][0]\n",
    "\n",
    "def findFinallActions(finall_state, state_machine, vertices_names):\n",
    "    out = []\n",
    "    for state in state_machine['transition']:\n",
    "        if state['states'][1] == finall_state:\n",
    "            if state['actions'][1] == '':\n",
    "                out.append(vertices_names.index(state['actions'][0]))\n",
    "            else:\n",
    "                out.append(vertices_names.index(state['actions'][1]))\n",
    "            del state\n",
    "\n",
    "    return out"
   ]
  },
  {
   "cell_type": "markdown",
   "metadata": {},
   "source": [
    "Функция getGraph строит граф согласно описанию.\n",
    "\n",
    "Реализует следующие пункты:\n",
    "* Выделить вершины\n",
    "* Разможить команды если необходимо\n",
    "* Добавить дуги"
   ]
  },
  {
   "cell_type": "code",
   "execution_count": 13,
   "metadata": {},
   "outputs": [],
   "source": [
    "def getGraph(sm_ls):\n",
    "    vertices_names = []\n",
    "    finall = []\n",
    "    for state_machine in sm_ls:\n",
    "        vertices_names.extend(state_machine['interfaces'])\n",
    "        finall_state = findFinallState(state_machine)\n",
    "        finall.extend(findFinallActions(finall_state, state_machine, vertices_names))\n",
    "\n",
    "    neighbours = [[] for i in range(len(vertices_names))]\n",
    "\n",
    "    for state_machine in sm_ls:\n",
    "        for state in state_machine['transition']:\n",
    "            if state['actions'][1] != '' and state['actions'][0] != '':\n",
    "                v_idx = vertices_names.index(state['actions'][0])\n",
    "                value = vertices_names.index(state['actions'][1])\n",
    "                if not value in neighbours[v_idx]: neighbours[v_idx].append(value)\n",
    "\n",
    "    for state_machine in sm_ls:\n",
    "        for state in state_machine['transition']:\n",
    "            action = state['actions'][1]\n",
    "            state_buffer = state['states'][1]\n",
    "            if action in state_machine['inner']:\n",
    "                for state_in in state_machine['transition']:\n",
    "                    if state_buffer == state_in['states'][0] \\\n",
    "                     and state_in['actions'][0] != '':\n",
    "                        v_idx = vertices_names.index(action)\n",
    "                        value = vertices_names.index(state_in['actions'][0])\n",
    "                        if not value in neighbours[v_idx]: neighbours[v_idx].append(value)\n",
    "                            \n",
    "    for state_machine in sm_ls:\n",
    "        for state in state_machine['transition']:\n",
    "            if state['actions'][1] == '':\n",
    "                action = state['actions'][0]\n",
    "                state_buffer = state['states'][1]\n",
    "                if action in state_machine['inner']:\n",
    "                    for state_in in state_machine['transition']:\n",
    "                        if state_buffer == state_in['states'][0] \\\n",
    "                         and state_in['actions'][0] != '':\n",
    "                            v_idx = vertices_names.index(action)\n",
    "                            value = vertices_names.index(state_in['actions'][0])\n",
    "                            if not value in neighbours[v_idx]: neighbours[v_idx].append(value)\n",
    "\n",
    "    return vertices_names, neighbours, finall"
   ]
  },
  {
   "cell_type": "markdown",
   "metadata": {},
   "source": [
    "Далее находятся вспомогательные функции"
   ]
  },
  {
   "cell_type": "code",
   "execution_count": 5,
   "metadata": {},
   "outputs": [],
   "source": [
    "def processFile(data):\n",
    "    data = data.casefold()\n",
    "    data = re.sub(r\"end(\\n)+\", r\"end\", data)\n",
    "    row_sm_list = [i for i in data.casefold().split('end') if i != '']\n",
    "    \n",
    "    sm_list = []\n",
    "    for row_sm in row_sm_list:\n",
    "        sm = getStateMachine(row_sm)\n",
    "        if not sm is None: sm_list.append(sm)\n",
    "    \n",
    "    return sm_list"
   ]
  },
  {
   "cell_type": "code",
   "execution_count": 4,
   "metadata": {},
   "outputs": [],
   "source": [
    "def getStateMachine(data):\n",
    "    commands = [i for i in data.split('\\n') if i != '']\n",
    "    it = iter(commands)\n",
    "    \n",
    "    state_machine = dict()\n",
    "    fields = iter(['provided', 'inner', 'state'])\n",
    "    \n",
    "    next_field = next(fields)\n",
    "\n",
    "    try:\n",
    "        state_machine[\"name\"] = next(it)\n",
    "        if next(it) == 'provided':\n",
    "            next_field = next(fields)\n",
    "            state_machine['interfaces'] = []\n",
    "\n",
    "            next_line = next(it)\n",
    "            while next_line != 'inner':\n",
    "                state_machine['interfaces'].append(next_line)\n",
    "                next_line = next(it)\n",
    "        else:\n",
    "            print(\"Invalid sintax, \\\"provided\\\" missing\")\n",
    "            return None\n",
    "            \n",
    "        next_field = next(fields)\n",
    "        state_machine['inner'] = []\n",
    "\n",
    "        next_line = next(it)\n",
    "        while next_line != 'state':\n",
    "            state_machine['inner'].append(next_line)\n",
    "            state_machine['interfaces'].append(next_line)\n",
    "            next_line = next(it)\n",
    "\n",
    "        state_machine['transition'] = []\n",
    "\n",
    "        for next_line in it:\n",
    "            buffer = next_line.split('->')\n",
    "            state_machine['transition'].append({'states': [buffer[0], buffer[-1]],\n",
    "                                'actions': [i for i in buffer[1].split(\"/\")]})\n",
    "        \n",
    "        return state_machine\n",
    "    \n",
    "    except StopIteration:\n",
    "        print(\"Invalid sintax, \\\"{}\\\" missing\".format(next_field))\n",
    "        return None"
   ]
  },
  {
   "cell_type": "markdown",
   "metadata": {},
   "source": [
    "Демонстрация работы алгоритма. Построенные граф и соответсвующее регулярное выражение.\n",
    "\n",
    "Пример №1"
   ]
  },
  {
   "cell_type": "code",
   "execution_count": 14,
   "metadata": {},
   "outputs": [
    {
     "name": "stdout",
     "output_type": "stream",
     "text": [
      "names:  ['заказ', 'готово', 'делать', 'отказ_готов', 'отказ_занят', 'поставка', 'нужда', 'использовать', 'возврат_готов', 'возврат_занят']\n",
      "neighbours:  [[2, 3], [4, 5], [1], [], [], [7, 9], [0, 8], [6], [], []]\n",
      "finall:  [3, 4, 8, 9]\n",
      "\n",
      "нужда возврат_готов + нужда заказ отказ_готов + нужда заказ делать готово отказ_занят + нужда заказ делать готово поставка возврат_занят + (нужда заказ делать готово поставка использовать)*(нужда возврат_готов) + (нужда заказ делать готово поставка использовать)*(нужда заказ отказ_готов) + (нужда заказ делать готово поставка использовать)*(нужда заказ делать готово отказ_занят) + (нужда заказ делать готово поставка использовать)*(нужда заказ делать готово поставка возврат_занят)\n"
     ]
    }
   ],
   "source": [
    "with open('test1.txt', 'r', encoding='utf-8') as f:\n",
    "    sm_ls = processFile(f.read())\n",
    "    splitVertices(sm_ls)\n",
    "    vertices_names, neighbours, finall = getGraph(sm_ls)\n",
    "    print(\"names: \", vertices_names)\n",
    "    print(\"neighbours: \", neighbours)\n",
    "    print(\"finall: \", finall)\n",
    "    print()\n",
    "    ans = uniteResult(make_regex(vertices_names.index(\"нужда\"), finall, neighbours, vertices_names))\n",
    "    print(ans)"
   ]
  },
  {
   "cell_type": "markdown",
   "metadata": {},
   "source": [
    "Пример №2"
   ]
  },
  {
   "cell_type": "code",
   "execution_count": 15,
   "metadata": {},
   "outputs": [
    {
     "name": "stdout",
     "output_type": "stream",
     "text": [
      "names:  ['заказ', 'возврат', 'готово', 'отказ', 'изготовить']\n",
      "neighbours:  [[4], [], [0, 1], [], [2, 3]]\n",
      "finall:  [1, 3]\n",
      "\n",
      "заказ изготовить отказ + заказ изготовить готово возврат + (заказ изготовить готово)*(заказ изготовить отказ) + (заказ изготовить готово)*(заказ изготовить готово возврат)\n"
     ]
    }
   ],
   "source": [
    "with open('test2.txt', 'r', encoding='utf-8') as f:\n",
    "    sm_ls = processFile(f.read())\n",
    "    splitVertices(sm_ls)\n",
    "    vertices_names, neighbours, finall = getGraph(sm_ls)\n",
    "    print(\"names: \", vertices_names)\n",
    "    print(\"neighbours: \", neighbours)\n",
    "    print(\"finall: \", finall)\n",
    "    print()\n",
    "    ans = uniteResult(make_regex(vertices_names.index(\"заказ\"), finall, neighbours, vertices_names))\n",
    "    print(ans)"
   ]
  },
  {
   "cell_type": "code",
   "execution_count": null,
   "metadata": {},
   "outputs": [],
   "source": []
  }
 ],
 "metadata": {
  "kernelspec": {
   "display_name": "Python 3",
   "language": "python",
   "name": "python3"
  },
  "language_info": {
   "codemirror_mode": {
    "name": "ipython",
    "version": 3
   },
   "file_extension": ".py",
   "mimetype": "text/x-python",
   "name": "python",
   "nbconvert_exporter": "python",
   "pygments_lexer": "ipython3",
   "version": "3.8.5"
  }
 },
 "nbformat": 4,
 "nbformat_minor": 4
}
